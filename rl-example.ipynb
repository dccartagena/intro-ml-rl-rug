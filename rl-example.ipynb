{
 "cells": [
  {
   "cell_type": "markdown",
   "metadata": {},
   "source": [
    "# Play TicTacToe Against a Random Agent\n",
    "\n",
    "Let us fundational reinforcement learning agents to play against a random agent in TicTacToe"
   ]
  },
  {
   "cell_type": "code",
   "execution_count": null,
   "metadata": {},
   "outputs": [],
   "source": [
    "# Import Dependencies\n",
    "import numpy as np\n",
    "import matplotlib.pyplot as plt\n",
    "import random"
   ]
  },
  {
   "cell_type": "code",
   "execution_count": null,
   "metadata": {},
   "outputs": [],
   "source": [
    "# Create TicTacToe environment\n",
    "class tictactoe():\n",
    "    def __init__(self):\n",
    "        # Create an empty board, where 0 is an empty space, 1 is random player, and 2 is rl player\n",
    "        shape_board = (3, 3)\n",
    "        self.state  = np.zeros(shape_board) # Current state in the board\n",
    "        self.reward = []                    # Instantaneous reward\n",
    "        pass\n",
    "    \n",
    "    def check_valid_move(self, move):\n",
    "        # Check if a move from any of the agents is valid\n",
    "        is_valid = False\n",
    "        if (self.state[move] == 0):     # Check if move is in an empty space\n",
    "            is_valid = True\n",
    "        return is_valid\n",
    "    \n",
    "    def make_move(self, player, move):\n",
    "        next_player = False\n",
    "\n",
    "        # Check if move is valid\n",
    "        is_valid = self.check_valid_move(move)\n",
    "\n",
    "        if is_valid:\n",
    "            self.state[move] = player   # Make move\n",
    "            next_player = True          # Flag for next move\n",
    "\n",
    "        return next_player\n",
    "\n",
    "    def is_winner(self):\n",
    "        is_winner = False\n",
    "\n",
    "        \n",
    "        for idx_row in range(2):\n",
    "            for idx_column in range(2):\n",
    "                \n",
    "        pass\n",
    "\n",
    "    def print_board(self):\n",
    "        # Print board\n",
    "        print(self.state)\n",
    "        pass"
   ]
  },
  {
   "cell_type": "code",
   "execution_count": null,
   "metadata": {},
   "outputs": [],
   "source": [
    "# Create the random agent\n",
    "class random_agent():\n",
    "    def __init__(self):\n",
    "        pass"
   ]
  },
  {
   "cell_type": "code",
   "execution_count": 36,
   "metadata": {},
   "outputs": [
    {
     "name": "stdout",
     "output_type": "stream",
     "text": [
      "[[0. 0. 0.]\n",
      " [0. 0. 0.]\n",
      " [0. 0. 0.]]\n",
      "[[0. 0. 0.]\n",
      " [0. 0. 0.]\n",
      " [1. 0. 0.]]\n",
      "True\n",
      "[[0. 0. 0.]\n",
      " [0. 0. 0.]\n",
      " [1. 0. 0.]]\n",
      "False\n"
     ]
    }
   ],
   "source": [
    "board = tictactoe()\n",
    "\n",
    "board.print_board()\n",
    "\n",
    "player = 1\n",
    "move = (2, 0)\n",
    "next_player = board.make_move(player, move)\n",
    "\n",
    "board.print_board()\n",
    "print(next_player)\n",
    "\n",
    "player = 2\n",
    "move = (2, 0)\n",
    "next_player = board.make_move(player, move)\n",
    "\n",
    "board.print_board()\n",
    "print(next_player)\n",
    "\n",
    "\n"
   ]
  }
 ],
 "metadata": {
  "kernelspec": {
   "display_name": "sigsys",
   "language": "python",
   "name": "python3"
  },
  "language_info": {
   "codemirror_mode": {
    "name": "ipython",
    "version": 3
   },
   "file_extension": ".py",
   "mimetype": "text/x-python",
   "name": "python",
   "nbconvert_exporter": "python",
   "pygments_lexer": "ipython3",
   "version": "3.9.18"
  }
 },
 "nbformat": 4,
 "nbformat_minor": 2
}

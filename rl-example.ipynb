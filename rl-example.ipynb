{
 "cells": [
  {
   "cell_type": "markdown",
   "metadata": {},
   "source": [
    "# Play TicTacToe Against a Random Agent\n",
    "\n",
    "Let us fundational reinforcement learning agents to play against a random agent in TicTacToe"
   ]
  },
  {
   "cell_type": "code",
   "execution_count": 2,
   "metadata": {},
   "outputs": [],
   "source": [
    "# Import Dependencies\n",
    "import numpy as np\n",
    "import matplotlib.pyplot as plt\n",
    "import random"
   ]
  },
  {
   "cell_type": "code",
   "execution_count": 5,
   "metadata": {},
   "outputs": [],
   "source": [
    "# Create TicTacToe environment\n",
    "class tictactoe():\n",
    "    def __init__(self):\n",
    "        # Create an empty board, where 0 is an empty space, 1 is random player, and 2 is rl player\n",
    "        shape_board = (3, 3)\n",
    "        self.state  = np.zeros(shape_board) # Current state in the board\n",
    "        self.reward = []                    # Instantaneous reward\n",
    "\n",
    "        self.is_winner  = False\n",
    "        self.is_draw    = False\n",
    "        self.is_done    = False      \n",
    "        self.winner     = 0           \n",
    "        pass\n",
    "    \n",
    "    def check_valid_move(self, move):\n",
    "        # Check if a move from any of the agents is valid\n",
    "        is_valid = False\n",
    "        if (self.state[move] == 0):     # Check if move is in an empty space\n",
    "            is_valid = True\n",
    "        return is_valid\n",
    "    \n",
    "    def make_move(self, player, move):\n",
    "        next_player = False\n",
    "\n",
    "        # Check if move is valid\n",
    "        is_valid = self.check_valid_move(move)\n",
    "\n",
    "        if is_valid:\n",
    "            self.state[move] = player   # Make move\n",
    "            next_player = True          # Flag for next move\n",
    "\n",
    "        return next_player\n",
    "\n",
    "    def check_winner(self):\n",
    "        #Check if there is a winner\n",
    "        self.is_winner = False\n",
    "        self.winner = 0\n",
    "\n",
    "        win_combinations = np.array([[[0, 0], [0, 1], [0, 2]],  # Winning rows\n",
    "                                     [[1, 0], [1, 1], [1, 2]],\n",
    "                                     [[2, 0], [2, 1], [2, 2]],\n",
    "                                     [[0, 0], [1, 0], [2, 0]],  # Winning columns\n",
    "                                     [[0, 1], [1, 1], [2, 1]],\n",
    "                                     [[0, 2], [1, 2], [2, 2]],\n",
    "                                     [[0, 0], [1, 1], [2, 2]],  # Winning diagonals\n",
    "                                     [[0, 2], [1, 1], [2, 0]]])\n",
    "        \n",
    "        # TODO: FIX!\n",
    "        for idx in range(win_combinations.shape[1]):\n",
    "            winner = 0\n",
    "            is_winner = False\n",
    "\n",
    "            if all(self.state[win_combinations[:, idx]]):\n",
    "                is_winner = True\n",
    "                winner = self.state[win_combinations[:, idx]]\n",
    "        return winner, is_winner\n",
    "\n",
    "    def check_done(self):\n",
    "        # Check if the game is done\n",
    "        self.is_done = False\n",
    "\n",
    "        if self.is_winner or self.is_draw:\n",
    "            self.is_done = True\n",
    "        \n",
    "        return self.is_done\n",
    "\n",
    "    def print_board(self):\n",
    "        # Print board\n",
    "        print(self.state)\n",
    "        pass"
   ]
  },
  {
   "cell_type": "code",
   "execution_count": null,
   "metadata": {},
   "outputs": [],
   "source": [
    "# Create the random agent\n",
    "class random_agent():\n",
    "    def __init__(self):\n",
    "        self.action = []\n",
    "        pass\n",
    "\n",
    "    def make_action(self):\n",
    "        # Make a random movement in the board - Use discrete uniform distribution\n",
    "        self.action = np.random.randint(3, size=2)\n",
    "        return self.action"
   ]
  },
  {
   "cell_type": "code",
   "execution_count": null,
   "metadata": {},
   "outputs": [],
   "source": [
    "# Create Q-learning agent\n",
    "class q_learning_agent():\n",
    "    def __init__(self):\n",
    "        self.action = []\n",
    "        self.q_values = []\n",
    "        pass\n",
    "    \n",
    "    def update_q_values(self):\n",
    "        pass\n",
    "\n",
    "    def make_action(self):\n",
    "        pass\n"
   ]
  },
  {
   "cell_type": "code",
   "execution_count": 7,
   "metadata": {},
   "outputs": [
    {
     "name": "stdout",
     "output_type": "stream",
     "text": [
      "[[0. 0. 0.]\n",
      " [0. 0. 0.]\n",
      " [0. 0. 0.]]\n",
      "[[0. 0. 0.]\n",
      " [0. 0. 0.]\n",
      " [1. 0. 0.]]\n",
      "True\n",
      "[[0. 0. 0.]\n",
      " [0. 0. 0.]\n",
      " [1. 0. 0.]]\n",
      "False\n"
     ]
    },
    {
     "ename": "ValueError",
     "evalue": "The truth value of an array with more than one element is ambiguous. Use a.any() or a.all()",
     "output_type": "error",
     "traceback": [
      "\u001b[1;31m---------------------------------------------------------------------------\u001b[0m",
      "\u001b[1;31mValueError\u001b[0m                                Traceback (most recent call last)",
      "\u001b[1;32mc:\\Users\\P311985\\Documents\\GitHub\\intro-ml-rug\\rl-example.ipynb Cell 5\u001b[0m line \u001b[0;36m1\n\u001b[0;32m     <a href='vscode-notebook-cell:/c%3A/Users/P311985/Documents/GitHub/intro-ml-rug/rl-example.ipynb#W4sZmlsZQ%3D%3D?line=15'>16</a>\u001b[0m board\u001b[39m.\u001b[39mprint_board()\n\u001b[0;32m     <a href='vscode-notebook-cell:/c%3A/Users/P311985/Documents/GitHub/intro-ml-rug/rl-example.ipynb#W4sZmlsZQ%3D%3D?line=16'>17</a>\u001b[0m \u001b[39mprint\u001b[39m(next_player)\n\u001b[1;32m---> <a href='vscode-notebook-cell:/c%3A/Users/P311985/Documents/GitHub/intro-ml-rug/rl-example.ipynb#W4sZmlsZQ%3D%3D?line=18'>19</a>\u001b[0m \u001b[39mprint\u001b[39m(board\u001b[39m.\u001b[39;49mis_winner())\n",
      "\u001b[1;32mc:\\Users\\P311985\\Documents\\GitHub\\intro-ml-rug\\rl-example.ipynb Cell 5\u001b[0m line \u001b[0;36m4\n\u001b[0;32m     <a href='vscode-notebook-cell:/c%3A/Users/P311985/Documents/GitHub/intro-ml-rug/rl-example.ipynb#W4sZmlsZQ%3D%3D?line=42'>43</a>\u001b[0m winner \u001b[39m=\u001b[39m \u001b[39m0\u001b[39m\n\u001b[0;32m     <a href='vscode-notebook-cell:/c%3A/Users/P311985/Documents/GitHub/intro-ml-rug/rl-example.ipynb#W4sZmlsZQ%3D%3D?line=43'>44</a>\u001b[0m is_winner \u001b[39m=\u001b[39m \u001b[39mFalse\u001b[39;00m\n\u001b[1;32m---> <a href='vscode-notebook-cell:/c%3A/Users/P311985/Documents/GitHub/intro-ml-rug/rl-example.ipynb#W4sZmlsZQ%3D%3D?line=45'>46</a>\u001b[0m \u001b[39mif\u001b[39;00m \u001b[39mall\u001b[39;49m(\u001b[39mself\u001b[39;49m\u001b[39m.\u001b[39;49mstate[win_combinations[:, idx]]):\n\u001b[0;32m     <a href='vscode-notebook-cell:/c%3A/Users/P311985/Documents/GitHub/intro-ml-rug/rl-example.ipynb#W4sZmlsZQ%3D%3D?line=46'>47</a>\u001b[0m     is_winner \u001b[39m=\u001b[39m \u001b[39mTrue\u001b[39;00m\n\u001b[0;32m     <a href='vscode-notebook-cell:/c%3A/Users/P311985/Documents/GitHub/intro-ml-rug/rl-example.ipynb#W4sZmlsZQ%3D%3D?line=47'>48</a>\u001b[0m     winner \u001b[39m=\u001b[39m \u001b[39mself\u001b[39m\u001b[39m.\u001b[39mstate[win_combinations[:, idx]]\n",
      "\u001b[1;31mValueError\u001b[0m: The truth value of an array with more than one element is ambiguous. Use a.any() or a.all()"
     ]
    }
   ],
   "source": [
    "board = tictactoe()\n",
    "\n",
    "board.print_board()\n",
    "\n",
    "player = 1\n",
    "move = (2, 0)\n",
    "next_player = board.make_move(player, move)\n",
    "\n",
    "board.print_board()\n",
    "print(next_player)\n",
    "\n",
    "player = 2\n",
    "move = (2, 0)\n",
    "next_player = board.make_move(player, move)\n",
    "\n",
    "board.print_board()\n",
    "print(next_player)\n",
    "\n",
    "print(board.is_winner())\n"
   ]
  }
 ],
 "metadata": {
  "kernelspec": {
   "display_name": "sigsys",
   "language": "python",
   "name": "python3"
  },
  "language_info": {
   "codemirror_mode": {
    "name": "ipython",
    "version": 3
   },
   "file_extension": ".py",
   "mimetype": "text/x-python",
   "name": "python",
   "nbconvert_exporter": "python",
   "pygments_lexer": "ipython3",
   "version": "3.9.16"
  }
 },
 "nbformat": 4,
 "nbformat_minor": 2
}
